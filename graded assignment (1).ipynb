{
 "cells": [
  {
   "cell_type": "code",
   "execution_count": 4,
   "id": "afd9b64a-2333-4841-86fa-7e22ba310440",
   "metadata": {},
   "outputs": [],
   "source": [
    "import requests\n",
    "\n",
    "\n",
    "response = requests.get('https://cf-courses-data.s3.us.cloud-object-storage.appdomain.cloud/IBMDeveloperSkillsNetwork-PY0220EN-SkillsNetwork/labs/project/revenue.htm')\n",
    "\n"
   ]
  },
  {
   "cell_type": "code",
   "execution_count": 14,
   "id": "6ea677d6-89e9-46c6-a3ae-85bddeb44392",
   "metadata": {},
   "outputs": [
    {
     "name": "stdout",
     "output_type": "stream",
     "text": [
      "<title>Tesla Revenue 2010-2022 | TSLA | MacroTrends</title>\n"
     ]
    }
   ],
   "source": [
    "import requests\n",
    "from bs4 import BeautifulSoup\n",
    "\n",
    "# Send an HTTP request to the URL\n",
    "response = requests.get('https://cf-courses-data.s3.us.cloud-object-storage.appdomain.cloud/IBMDeveloperSkillsNetwork-PY0220EN-SkillsNetwork/labs/project/revenue.htm')\n",
    "\n",
    "# Save the HTML content of the response as html_data\n",
    "html_data = response.text if response.status_code == 200 else None\n",
    "\n",
    "# Parse the HTML data using BeautifulSoup\n",
    "soup = BeautifulSoup(html_data, 'html.parser')\n",
    "\n",
    "# Print the title to verify parsing was successful\n",
    "print(soup.title)"
   ]
  },
  {
   "cell_type": "code",
   "execution_count": 18,
   "id": "95bf110c-01dd-4c21-8d2d-53614430ec93",
   "metadata": {},
   "outputs": [],
   "source": [
    "import pandas as pd\n",
    "\n",
    "\n",
    "# Read the tables from the webpage\n",
    "tables = pd.read_html( 'https://cf-courses-data.s3.us.cloud-object-storage.appdomain.cloud/IBMDeveloperSkillsNetwork-PY0220EN-SkillsNetwork/labs/project/revenue.htm')\n",
    "\n",
    "# Assuming the Tesla revenue table is the second table\n",
    "tesla_revenue = tables[1]\n",
    "\n",
    "# Rename the columns to \"Date\" and \"Revenue\"\n",
    "tesla_revenue.columns = [\"Date\", \"Revenue\"]"
   ]
  },
  {
   "cell_type": "code",
   "execution_count": 19,
   "id": "4e1d7d07-a7cb-4c32-ac8a-0d74b65f5abf",
   "metadata": {},
   "outputs": [],
   "source": [
    "tesla_revenue[\"Revenue\"] = tesla_revenue['Revenue'].str.replace(',|\\$',\"\")"
   ]
  },
  {
   "cell_type": "code",
   "execution_count": 21,
   "id": "87da0970-84ac-45d9-ab85-976f0c2ed1d2",
   "metadata": {},
   "outputs": [],
   "source": [
    "tesla_revenue.dropna(inplace=True)\n",
    "\n",
    "# Filter rows where the \"Revenue\" column is not an empty string\n",
    "tesla_revenue = tesla_revenue[tesla_revenue['Revenue'] != \"\"]"
   ]
  },
  {
   "cell_type": "code",
   "execution_count": null,
   "id": "1c3cfb17-2f59-4c8c-b21f-2452573893bb",
   "metadata": {},
   "outputs": [],
   "source": []
  },
  {
   "cell_type": "code",
   "execution_count": null,
   "id": "0a8eb850-dce0-4fe5-a3de-bf9394ea04fd",
   "metadata": {},
   "outputs": [],
   "source": []
  },
  {
   "cell_type": "code",
   "execution_count": null,
   "id": "dad67193-56d1-4248-aefc-b6f61e1f531b",
   "metadata": {},
   "outputs": [],
   "source": [
    "QUESTION 3"
   ]
  },
  {
   "cell_type": "code",
   "execution_count": 27,
   "id": "15fcc203-007b-4fb3-9a88-b4ffd5f216a0",
   "metadata": {},
   "outputs": [
    {
     "name": "stdout",
     "output_type": "stream",
     "text": [
      "Collecting yfinance\n",
      "  Downloading yfinance-0.2.40-py2.py3-none-any.whl.metadata (11 kB)\n",
      "Requirement already satisfied: pandas>=1.3.0 in c:\\users\\doeoc\\anaconda3\\lib\\site-packages (from yfinance) (2.1.4)\n",
      "Requirement already satisfied: numpy>=1.16.5 in c:\\users\\doeoc\\anaconda3\\lib\\site-packages (from yfinance) (1.26.4)\n",
      "Requirement already satisfied: requests>=2.31 in c:\\users\\doeoc\\anaconda3\\lib\\site-packages (from yfinance) (2.31.0)\n",
      "Collecting multitasking>=0.0.7 (from yfinance)\n",
      "  Downloading multitasking-0.0.11-py3-none-any.whl.metadata (5.5 kB)\n",
      "Requirement already satisfied: lxml>=4.9.1 in c:\\users\\doeoc\\anaconda3\\lib\\site-packages (from yfinance) (4.9.3)\n",
      "Requirement already satisfied: platformdirs>=2.0.0 in c:\\users\\doeoc\\anaconda3\\lib\\site-packages (from yfinance) (3.10.0)\n",
      "Requirement already satisfied: pytz>=2022.5 in c:\\users\\doeoc\\anaconda3\\lib\\site-packages (from yfinance) (2023.3.post1)\n",
      "Requirement already satisfied: frozendict>=2.3.4 in c:\\users\\doeoc\\anaconda3\\lib\\site-packages (from yfinance) (2.4.2)\n",
      "Collecting peewee>=3.16.2 (from yfinance)\n",
      "  Downloading peewee-3.17.5.tar.gz (3.0 MB)\n",
      "     ---------------------------------------- 0.0/3.0 MB ? eta -:--:--\n",
      "     ---------------------------------------- 0.0/3.0 MB ? eta -:--:--\n",
      "     ---------------------------------------- 0.0/3.0 MB 660.6 kB/s eta 0:00:05\n",
      "     - -------------------------------------- 0.1/3.0 MB 1.0 MB/s eta 0:00:03\n",
      "     -- ------------------------------------- 0.2/3.0 MB 1.1 MB/s eta 0:00:03\n",
      "     ---- ----------------------------------- 0.3/3.0 MB 1.4 MB/s eta 0:00:02\n",
      "     ---- ----------------------------------- 0.3/3.0 MB 1.5 MB/s eta 0:00:02\n",
      "     ----- ---------------------------------- 0.4/3.0 MB 1.4 MB/s eta 0:00:02\n",
      "     ------ --------------------------------- 0.5/3.0 MB 1.5 MB/s eta 0:00:02\n",
      "     -------- ------------------------------- 0.6/3.0 MB 1.7 MB/s eta 0:00:02\n",
      "     ---------- ----------------------------- 0.8/3.0 MB 1.8 MB/s eta 0:00:02\n",
      "     ----------- ---------------------------- 0.9/3.0 MB 1.8 MB/s eta 0:00:02\n",
      "     ------------ --------------------------- 0.9/3.0 MB 1.8 MB/s eta 0:00:02\n",
      "     ------------ --------------------------- 0.9/3.0 MB 1.8 MB/s eta 0:00:02\n",
      "     ------------ --------------------------- 0.9/3.0 MB 1.8 MB/s eta 0:00:02\n",
      "     ------------ --------------------------- 0.9/3.0 MB 1.8 MB/s eta 0:00:02\n",
      "     ------------- -------------------------- 1.0/3.0 MB 1.5 MB/s eta 0:00:02\n",
      "     -------------- ------------------------- 1.1/3.0 MB 1.5 MB/s eta 0:00:02\n",
      "     --------------- ------------------------ 1.2/3.0 MB 1.5 MB/s eta 0:00:02\n",
      "     ---------------- ----------------------- 1.2/3.0 MB 1.5 MB/s eta 0:00:02\n",
      "     ---------------- ----------------------- 1.2/3.0 MB 1.4 MB/s eta 0:00:02\n",
      "     ---------------- ----------------------- 1.2/3.0 MB 1.4 MB/s eta 0:00:02\n",
      "     ---------------- ----------------------- 1.2/3.0 MB 1.4 MB/s eta 0:00:02\n",
      "     ----------------- ---------------------- 1.3/3.0 MB 1.3 MB/s eta 0:00:02\n",
      "     ------------------- -------------------- 1.4/3.0 MB 1.4 MB/s eta 0:00:02\n",
      "     ------------------- -------------------- 1.5/3.0 MB 1.4 MB/s eta 0:00:02\n",
      "     -------------------- ------------------- 1.5/3.0 MB 1.3 MB/s eta 0:00:02\n",
      "     -------------------- ------------------- 1.5/3.0 MB 1.3 MB/s eta 0:00:02\n",
      "     -------------------- ------------------- 1.5/3.0 MB 1.3 MB/s eta 0:00:02\n",
      "     --------------------- ------------------ 1.6/3.0 MB 1.3 MB/s eta 0:00:02\n",
      "     ---------------------- ----------------- 1.6/3.0 MB 1.3 MB/s eta 0:00:02\n",
      "     ---------------------- ----------------- 1.6/3.0 MB 1.3 MB/s eta 0:00:02\n",
      "     ---------------------- ----------------- 1.6/3.0 MB 1.3 MB/s eta 0:00:02\n",
      "     ----------------------- ---------------- 1.7/3.0 MB 1.2 MB/s eta 0:00:01\n",
      "     ------------------------- -------------- 1.9/3.0 MB 1.3 MB/s eta 0:00:01\n",
      "     ------------------------- -------------- 1.9/3.0 MB 1.3 MB/s eta 0:00:01\n",
      "     ------------------------- -------------- 1.9/3.0 MB 1.3 MB/s eta 0:00:01\n",
      "     -------------------------- ------------- 2.0/3.0 MB 1.3 MB/s eta 0:00:01\n",
      "     --------------------------- ------------ 2.0/3.0 MB 1.3 MB/s eta 0:00:01\n",
      "     --------------------------- ------------ 2.1/3.0 MB 1.2 MB/s eta 0:00:01\n",
      "     ---------------------------- ----------- 2.1/3.0 MB 1.2 MB/s eta 0:00:01\n",
      "     ----------------------------- ---------- 2.2/3.0 MB 1.2 MB/s eta 0:00:01\n",
      "     ----------------------------- ---------- 2.2/3.0 MB 1.2 MB/s eta 0:00:01\n",
      "     ------------------------------ --------- 2.3/3.0 MB 1.2 MB/s eta 0:00:01\n",
      "     ------------------------------- -------- 2.3/3.0 MB 1.2 MB/s eta 0:00:01\n",
      "     ------------------------------- -------- 2.4/3.0 MB 1.2 MB/s eta 0:00:01\n",
      "     --------------------------------- ------ 2.4/3.0 MB 1.2 MB/s eta 0:00:01\n",
      "     --------------------------------- ------ 2.5/3.0 MB 1.2 MB/s eta 0:00:01\n",
      "     --------------------------------- ------ 2.5/3.0 MB 1.2 MB/s eta 0:00:01\n",
      "     ---------------------------------- ----- 2.5/3.0 MB 1.2 MB/s eta 0:00:01\n",
      "     ---------------------------------- ----- 2.5/3.0 MB 1.2 MB/s eta 0:00:01\n",
      "     ----------------------------------- ---- 2.7/3.0 MB 1.2 MB/s eta 0:00:01\n",
      "     ------------------------------------- -- 2.7/3.0 MB 1.2 MB/s eta 0:00:01\n",
      "     -------------------------------------- - 2.8/3.0 MB 1.3 MB/s eta 0:00:01\n",
      "     ---------------------------------------  2.9/3.0 MB 1.3 MB/s eta 0:00:01\n",
      "     ---------------------------------------  2.9/3.0 MB 1.3 MB/s eta 0:00:01\n",
      "     ---------------------------------------- 3.0/3.0 MB 1.3 MB/s eta 0:00:00\n",
      "  Installing build dependencies: started\n",
      "  Installing build dependencies: finished with status 'done'\n",
      "  Getting requirements to build wheel: started\n",
      "  Getting requirements to build wheel: finished with status 'done'\n",
      "  Preparing metadata (pyproject.toml): started\n",
      "  Preparing metadata (pyproject.toml): finished with status 'done'\n",
      "Requirement already satisfied: beautifulsoup4>=4.11.1 in c:\\users\\doeoc\\anaconda3\\lib\\site-packages (from yfinance) (4.12.2)\n",
      "Collecting html5lib>=1.1 (from yfinance)\n",
      "  Using cached html5lib-1.1-py2.py3-none-any.whl.metadata (16 kB)\n",
      "Requirement already satisfied: soupsieve>1.2 in c:\\users\\doeoc\\anaconda3\\lib\\site-packages (from beautifulsoup4>=4.11.1->yfinance) (2.5)\n",
      "Requirement already satisfied: six>=1.9 in c:\\users\\doeoc\\anaconda3\\lib\\site-packages (from html5lib>=1.1->yfinance) (1.16.0)\n",
      "Requirement already satisfied: webencodings in c:\\users\\doeoc\\anaconda3\\lib\\site-packages (from html5lib>=1.1->yfinance) (0.5.1)\n",
      "Requirement already satisfied: python-dateutil>=2.8.2 in c:\\users\\doeoc\\anaconda3\\lib\\site-packages (from pandas>=1.3.0->yfinance) (2.8.2)\n",
      "Requirement already satisfied: tzdata>=2022.1 in c:\\users\\doeoc\\anaconda3\\lib\\site-packages (from pandas>=1.3.0->yfinance) (2023.3)\n",
      "Requirement already satisfied: charset-normalizer<4,>=2 in c:\\users\\doeoc\\anaconda3\\lib\\site-packages (from requests>=2.31->yfinance) (2.0.4)\n",
      "Requirement already satisfied: idna<4,>=2.5 in c:\\users\\doeoc\\anaconda3\\lib\\site-packages (from requests>=2.31->yfinance) (3.4)\n",
      "Requirement already satisfied: urllib3<3,>=1.21.1 in c:\\users\\doeoc\\anaconda3\\lib\\site-packages (from requests>=2.31->yfinance) (2.0.7)\n",
      "Requirement already satisfied: certifi>=2017.4.17 in c:\\users\\doeoc\\anaconda3\\lib\\site-packages (from requests>=2.31->yfinance) (2024.2.2)\n",
      "Downloading yfinance-0.2.40-py2.py3-none-any.whl (73 kB)\n",
      "   ---------------------------------------- 0.0/73.5 kB ? eta -:--:--\n",
      "   --------------------------------- ------ 61.4/73.5 kB 3.4 MB/s eta 0:00:01\n",
      "   ---------------------------------------- 73.5/73.5 kB 1.3 MB/s eta 0:00:00\n",
      "Using cached html5lib-1.1-py2.py3-none-any.whl (112 kB)\n",
      "Downloading multitasking-0.0.11-py3-none-any.whl (8.5 kB)\n",
      "Building wheels for collected packages: peewee\n",
      "  Building wheel for peewee (pyproject.toml): started\n",
      "  Building wheel for peewee (pyproject.toml): finished with status 'done'\n",
      "  Created wheel for peewee: filename=peewee-3.17.5-py3-none-any.whl size=138681 sha256=a6fc2a4112598b46ad8afaff566b7fa1e794d0e77664fd64f0c2d5b599801781\n",
      "  Stored in directory: c:\\users\\doeoc\\appdata\\local\\pip\\cache\\wheels\\d2\\cb\\9c\\c300d7bf782e07f1658c306743d5e30af7e4834001e4064a96\n",
      "Successfully built peewee\n",
      "Installing collected packages: peewee, multitasking, html5lib, yfinance\n",
      "Successfully installed html5lib-1.1 multitasking-0.0.11 peewee-3.17.5 yfinance-0.2.40\n",
      "Note: you may need to restart the kernel to use updated packages.\n"
     ]
    }
   ],
   "source": [
    "pip install yfinance"
   ]
  },
  {
   "cell_type": "code",
   "execution_count": 31,
   "id": "c4eef5ff-e288-445d-b82d-3c8417842b4d",
   "metadata": {},
   "outputs": [
    {
     "name": "stdout",
     "output_type": "stream",
     "text": [
      "                                Open       High        Low      Close  \\\n",
      "Date                                                                    \n",
      "2023-05-22 00:00:00-04:00  22.100000  24.360001  21.990000  24.209999   \n",
      "2023-05-23 00:00:00-04:00  23.889999  23.900000  22.799999  23.160000   \n",
      "2023-05-24 00:00:00-04:00  23.129999  23.520000  22.730000  23.270000   \n",
      "2023-05-25 00:00:00-04:00  23.500000  23.690001  22.709999  23.350000   \n",
      "2023-05-26 00:00:00-04:00  23.469999  23.709999  23.059999  23.250000   \n",
      "\n",
      "                            Volume  Dividends  Stock Splits  \n",
      "Date                                                         \n",
      "2023-05-22 00:00:00-04:00  6251600        0.0           0.0  \n",
      "2023-05-23 00:00:00-04:00  3786500        0.0           0.0  \n",
      "2023-05-24 00:00:00-04:00  1901000        0.0           0.0  \n",
      "2023-05-25 00:00:00-04:00  2494400        0.0           0.0  \n",
      "2023-05-26 00:00:00-04:00  2261900        0.0           0.0  \n"
     ]
    }
   ],
   "source": [
    "import yfinance as yf\n",
    "\n",
    "# Create a ticker object for GameStop with ticker symbol GME\n",
    "gme_ticker = yf.Ticker(\"GME\")\n",
    "\n",
    "# Fetch historical stock data for GameStop\n",
    "gme_data = gme_ticker.history(period=\"1y\")  \n",
    "\n",
    "# Print the first few rows of the stock data\n",
    "print(gme_data.head())"
   ]
  },
  {
   "cell_type": "code",
   "execution_count": 37,
   "id": "fa5622d1-6a41-4fa6-bbd9-b64b7f7550bb",
   "metadata": {},
   "outputs": [
    {
     "name": "stdout",
     "output_type": "stream",
     "text": [
      "                               Open      High       Low     Close    Volume  \\\n",
      "Date                                                                          \n",
      "2002-02-13 00:00:00-05:00  1.620128  1.693350  1.603296  1.691666  76216000   \n",
      "2002-02-14 00:00:00-05:00  1.712707  1.716073  1.670625  1.683250  11021600   \n",
      "2002-02-15 00:00:00-05:00  1.683250  1.687458  1.658001  1.674834   8389600   \n",
      "2002-02-19 00:00:00-05:00  1.666418  1.666418  1.578047  1.607504   7410400   \n",
      "2002-02-20 00:00:00-05:00  1.615920  1.662209  1.603295  1.662209   6892800   \n",
      "\n",
      "                           Dividends  Stock Splits  \n",
      "Date                                                \n",
      "2002-02-13 00:00:00-05:00        0.0           0.0  \n",
      "2002-02-14 00:00:00-05:00        0.0           0.0  \n",
      "2002-02-15 00:00:00-05:00        0.0           0.0  \n",
      "2002-02-19 00:00:00-05:00        0.0           0.0  \n",
      "2002-02-20 00:00:00-05:00        0.0           0.0  \n"
     ]
    }
   ],
   "source": [
    "gme_data = gme_ticker.history(period=\"max\")\n",
    "\n",
    "print(gme_data.head())"
   ]
  },
  {
   "cell_type": "code",
   "execution_count": 40,
   "id": "d2c185e3-b2df-4388-b41e-1e0494b0baa4",
   "metadata": {},
   "outputs": [
    {
     "name": "stdout",
     "output_type": "stream",
     "text": [
      "   level_0  index                      Date      Open      High       Low  \\\n",
      "0        0      0 2002-02-13 00:00:00-05:00  1.620128  1.693350  1.603296   \n",
      "1        1      1 2002-02-14 00:00:00-05:00  1.712707  1.716073  1.670625   \n",
      "2        2      2 2002-02-15 00:00:00-05:00  1.683250  1.687458  1.658001   \n",
      "3        3      3 2002-02-19 00:00:00-05:00  1.666418  1.666418  1.578047   \n",
      "4        4      4 2002-02-20 00:00:00-05:00  1.615920  1.662209  1.603295   \n",
      "\n",
      "      Close    Volume  Dividends  Stock Splits  \n",
      "0  1.691666  76216000        0.0           0.0  \n",
      "1  1.683250  11021600        0.0           0.0  \n",
      "2  1.674834   8389600        0.0           0.0  \n",
      "3  1.607504   7410400        0.0           0.0  \n",
      "4  1.662209   6892800        0.0           0.0  \n"
     ]
    }
   ],
   "source": [
    "# Reset index inplace\n",
    "gme_data.reset_index(inplace=True)\n"
   ]
  },
  {
   "cell_type": "code",
   "execution_count": 41,
   "id": "8fbb7148-d12d-4a46-ad7b-8ab090f6296a",
   "metadata": {},
   "outputs": [
    {
     "name": "stdout",
     "output_type": "stream",
     "text": [
      "   level_0  index                      Date      Open      High       Low  \\\n",
      "0        0      0 2002-02-13 00:00:00-05:00  1.620128  1.693350  1.603296   \n",
      "1        1      1 2002-02-14 00:00:00-05:00  1.712707  1.716073  1.670625   \n",
      "2        2      2 2002-02-15 00:00:00-05:00  1.683250  1.687458  1.658001   \n",
      "3        3      3 2002-02-19 00:00:00-05:00  1.666418  1.666418  1.578047   \n",
      "4        4      4 2002-02-20 00:00:00-05:00  1.615920  1.662209  1.603295   \n",
      "\n",
      "      Close    Volume  Dividends  Stock Splits  \n",
      "0  1.691666  76216000        0.0           0.0  \n",
      "1  1.683250  11021600        0.0           0.0  \n",
      "2  1.674834   8389600        0.0           0.0  \n",
      "3  1.607504   7410400        0.0           0.0  \n",
      "4  1.662209   6892800        0.0           0.0  \n"
     ]
    }
   ],
   "source": [
    "# Display the first five rows of the gme_data DataFrame\n",
    "print(gme_data.head())"
   ]
  },
  {
   "cell_type": "code",
   "execution_count": null,
   "id": "cff027a9-1635-4c08-97a1-f2e3c47868a3",
   "metadata": {},
   "outputs": [],
   "source": []
  },
  {
   "cell_type": "code",
   "execution_count": null,
   "id": "15fb1d6b-e1f1-4b86-8ce8-388b83f09cd1",
   "metadata": {},
   "outputs": [],
   "source": []
  },
  {
   "cell_type": "code",
   "execution_count": null,
   "id": "11467e52-6ee2-487e-b000-74eb5695996b",
   "metadata": {},
   "outputs": [],
   "source": [
    "QUESTION 4"
   ]
  },
  {
   "cell_type": "code",
   "execution_count": 44,
   "id": "a576e110-d14d-4380-8963-e9a96f427f06",
   "metadata": {},
   "outputs": [],
   "source": [
    "import requests\n",
    "\n",
    "# Send a GET request to the URL and save the response\n",
    "response = requests.get(\"https://cf-courses-data.s3.us.cloud-object-storage.appdomain.cloud/IBMDeveloperSkillsNetwork-PY0220EN-SkillsNetwork/labs/project/stock.html\")\n",
    "\n",
    "# Save the text of the response as a variable named html_data\n",
    "html_data = response.text"
   ]
  },
  {
   "cell_type": "code",
   "execution_count": 45,
   "id": "a47fd51f-f3c9-4c90-b084-feb27e08e30c",
   "metadata": {},
   "outputs": [
    {
     "name": "stdout",
     "output_type": "stream",
     "text": [
      "Requirement already satisfied: beautifulsoup4 in c:\\users\\doeoc\\anaconda3\\lib\\site-packages (4.12.2)Note: you may need to restart the kernel to use updated packages.\n",
      "\n",
      "Requirement already satisfied: soupsieve>1.2 in c:\\users\\doeoc\\anaconda3\\lib\\site-packages (from beautifulsoup4) (2.5)\n"
     ]
    }
   ],
   "source": [
    "pip install beautifulsoup4"
   ]
  },
  {
   "cell_type": "code",
   "execution_count": 47,
   "id": "65575033-4752-48dc-b838-eb8ea37c803e",
   "metadata": {},
   "outputs": [],
   "source": [
    "from bs4 import BeautifulSoup\n",
    "\n",
    "# Parse the HTML data using Beautiful Soup\n",
    "soup = BeautifulSoup(html_data, \"html.parser\")"
   ]
  },
  {
   "cell_type": "code",
   "execution_count": 59,
   "id": "6825bf9b-833e-4e82-8682-a1be5eb41cb0",
   "metadata": {},
   "outputs": [
    {
     "name": "stdout",
     "output_type": "stream",
     "text": [
      "                       Date             Revenue\n",
      "0 2002-02-13 00:00:00-05:00   1.620128204072825\n",
      "1 2002-02-14 00:00:00-05:00     1.7127072205329\n",
      "2 2002-02-15 00:00:00-05:00  1.6832504163818824\n",
      "3 2002-02-19 00:00:00-05:00   1.666417795821863\n",
      "4 2002-02-20 00:00:00-05:00  1.6159203121217995\n"
     ]
    }
   ],
   "source": [
    "\n",
    "\n",
    "# Extract Date and Revenue columns\n",
    "gme_revenue = gme_data[['Open']].rename(columns={'Open': 'Revenue'}).reset_index()\n",
    "gme_revenue.columns = ['Date', 'Revenue']\n",
    "\n",
    "\n"
   ]
  },
  {
   "cell_type": "code",
   "execution_count": 60,
   "id": "5fe372eb-f178-49d4-8c15-51e91cda92dd",
   "metadata": {},
   "outputs": [],
   "source": [
    "# Remove commas and dollar signs from Revenue\n",
    "gme_revenue['Revenue'] = gme_revenue['Revenue'].astype(str).str.replace(',', '').str.replace('$', '')\n"
   ]
  },
  {
   "cell_type": "code",
   "execution_count": 61,
   "id": "54b04c2a-c05f-4430-a22a-37a1a2fc339c",
   "metadata": {},
   "outputs": [
    {
     "name": "stdout",
     "output_type": "stream",
     "text": [
      "                       Date             Revenue\n",
      "0 2002-02-13 00:00:00-05:00   1.620128204072825\n",
      "1 2002-02-14 00:00:00-05:00     1.7127072205329\n",
      "2 2002-02-15 00:00:00-05:00  1.6832504163818824\n",
      "3 2002-02-19 00:00:00-05:00   1.666417795821863\n",
      "4 2002-02-20 00:00:00-05:00  1.6159203121217995\n"
     ]
    }
   ],
   "source": [
    "# Display the DataFrame\n",
    "print(gme_revenue.head())"
   ]
  },
  {
   "cell_type": "code",
   "execution_count": 62,
   "id": "ce30fb94-978b-48c8-b535-976d03102848",
   "metadata": {},
   "outputs": [
    {
     "name": "stdout",
     "output_type": "stream",
     "text": [
      "                          Date             Revenue\n",
      "5600 2024-05-14 00:00:00-04:00   64.83000183105469\n",
      "5601 2024-05-15 00:00:00-04:00  40.310001373291016\n",
      "5602 2024-05-16 00:00:00-04:00   33.97999954223633\n",
      "5603 2024-05-17 00:00:00-04:00  21.860000610351562\n",
      "5604 2024-05-20 00:00:00-04:00  21.540000915527344\n"
     ]
    }
   ],
   "source": [
    "# Display the last five rows of the gme_revenue DataFrame\n",
    "print(gme_revenue.tail())"
   ]
  },
  {
   "cell_type": "code",
   "execution_count": null,
   "id": "f1eaef40-8c55-4bd0-be7d-ca6b98319d42",
   "metadata": {},
   "outputs": [],
   "source": []
  },
  {
   "cell_type": "code",
   "execution_count": null,
   "id": "39f0002e-56ca-4710-ac9f-e349acce0ed9",
   "metadata": {},
   "outputs": [],
   "source": []
  },
  {
   "cell_type": "code",
   "execution_count": null,
   "id": "c703ed0f-431f-45e3-b94a-6990c08243f7",
   "metadata": {},
   "outputs": [],
   "source": [
    "QUESTION 1"
   ]
  },
  {
   "cell_type": "code",
   "execution_count": 63,
   "id": "55f891cd-014e-49f0-b26c-277700a4615d",
   "metadata": {},
   "outputs": [
    {
     "name": "stdout",
     "output_type": "stream",
     "text": [
      "                               Open      High       Low     Close     Volume  \\\n",
      "Date                                                                           \n",
      "2010-06-29 00:00:00-04:00  1.266667  1.666667  1.169333  1.592667  281494500   \n",
      "2010-06-30 00:00:00-04:00  1.719333  2.028000  1.553333  1.588667  257806500   \n",
      "2010-07-01 00:00:00-04:00  1.666667  1.728000  1.351333  1.464000  123282000   \n",
      "2010-07-02 00:00:00-04:00  1.533333  1.540000  1.247333  1.280000   77097000   \n",
      "2010-07-06 00:00:00-04:00  1.333333  1.333333  1.055333  1.074000  103003500   \n",
      "\n",
      "                           Dividends  Stock Splits  \n",
      "Date                                                \n",
      "2010-06-29 00:00:00-04:00        0.0           0.0  \n",
      "2010-06-30 00:00:00-04:00        0.0           0.0  \n",
      "2010-07-01 00:00:00-04:00        0.0           0.0  \n",
      "2010-07-02 00:00:00-04:00        0.0           0.0  \n",
      "2010-07-06 00:00:00-04:00        0.0           0.0  \n"
     ]
    }
   ],
   "source": [
    "import yfinance as yf\n"
   ]
  },
  {
   "cell_type": "code",
   "execution_count": 64,
   "id": "0018908c-9b71-4791-9d21-9a733e8b7695",
   "metadata": {},
   "outputs": [],
   "source": [
    "# Create a ticker object for Tesla\n",
    "tesla = yf.Ticker(\"TSLA\")"
   ]
  },
  {
   "cell_type": "code",
   "execution_count": 65,
   "id": "5e10fb4d-bfc5-4f88-bc81-6c4a16321c00",
   "metadata": {},
   "outputs": [],
   "source": [
    "# Extract historical stock data for Tesla\n",
    "tesla_data = tesla.history(period=\"max\")"
   ]
  },
  {
   "cell_type": "code",
   "execution_count": 66,
   "id": "8628ece3-f3fd-40f8-ae35-58b36a0cf982",
   "metadata": {},
   "outputs": [
    {
     "name": "stdout",
     "output_type": "stream",
     "text": [
      "                               Open      High       Low     Close     Volume  \\\n",
      "Date                                                                           \n",
      "2010-06-29 00:00:00-04:00  1.266667  1.666667  1.169333  1.592667  281494500   \n",
      "2010-06-30 00:00:00-04:00  1.719333  2.028000  1.553333  1.588667  257806500   \n",
      "2010-07-01 00:00:00-04:00  1.666667  1.728000  1.351333  1.464000  123282000   \n",
      "2010-07-02 00:00:00-04:00  1.533333  1.540000  1.247333  1.280000   77097000   \n",
      "2010-07-06 00:00:00-04:00  1.333333  1.333333  1.055333  1.074000  103003500   \n",
      "\n",
      "                           Dividends  Stock Splits  \n",
      "Date                                                \n",
      "2010-06-29 00:00:00-04:00        0.0           0.0  \n",
      "2010-06-30 00:00:00-04:00        0.0           0.0  \n",
      "2010-07-01 00:00:00-04:00        0.0           0.0  \n",
      "2010-07-02 00:00:00-04:00        0.0           0.0  \n",
      "2010-07-06 00:00:00-04:00        0.0           0.0  \n"
     ]
    }
   ],
   "source": [
    "# Display the first few rows of the extracted data\n",
    "print(tesla_data.head())"
   ]
  },
  {
   "cell_type": "code",
   "execution_count": 67,
   "id": "4134843d-4ebf-4bdc-835f-9a21a112b1dc",
   "metadata": {},
   "outputs": [
    {
     "name": "stdout",
     "output_type": "stream",
     "text": [
      "                       Date      Open      High       Low     Close  \\\n",
      "0 2010-06-29 00:00:00-04:00  1.266667  1.666667  1.169333  1.592667   \n",
      "1 2010-06-30 00:00:00-04:00  1.719333  2.028000  1.553333  1.588667   \n",
      "2 2010-07-01 00:00:00-04:00  1.666667  1.728000  1.351333  1.464000   \n",
      "3 2010-07-02 00:00:00-04:00  1.533333  1.540000  1.247333  1.280000   \n",
      "4 2010-07-06 00:00:00-04:00  1.333333  1.333333  1.055333  1.074000   \n",
      "\n",
      "      Volume  Dividends  Stock Splits  \n",
      "0  281494500        0.0           0.0  \n",
      "1  257806500        0.0           0.0  \n",
      "2  123282000        0.0           0.0  \n",
      "3   77097000        0.0           0.0  \n",
      "4  103003500        0.0           0.0  \n"
     ]
    }
   ],
   "source": [
    "# Reset the index of the DataFrame\n",
    "tesla_data.reset_index(inplace=True)\n"
   ]
  },
  {
   "cell_type": "code",
   "execution_count": 68,
   "id": "ac9462a3-a15e-4a88-b87f-ab36832e97c6",
   "metadata": {},
   "outputs": [
    {
     "name": "stdout",
     "output_type": "stream",
     "text": [
      "                       Date      Open      High       Low     Close  \\\n",
      "0 2010-06-29 00:00:00-04:00  1.266667  1.666667  1.169333  1.592667   \n",
      "1 2010-06-30 00:00:00-04:00  1.719333  2.028000  1.553333  1.588667   \n",
      "2 2010-07-01 00:00:00-04:00  1.666667  1.728000  1.351333  1.464000   \n",
      "3 2010-07-02 00:00:00-04:00  1.533333  1.540000  1.247333  1.280000   \n",
      "4 2010-07-06 00:00:00-04:00  1.333333  1.333333  1.055333  1.074000   \n",
      "\n",
      "      Volume  Dividends  Stock Splits  \n",
      "0  281494500        0.0           0.0  \n",
      "1  257806500        0.0           0.0  \n",
      "2  123282000        0.0           0.0  \n",
      "3   77097000        0.0           0.0  \n",
      "4  103003500        0.0           0.0  \n"
     ]
    }
   ],
   "source": [
    "# Display the first five rows of the DataFrame\n",
    "print(tesla_data.head())"
   ]
  },
  {
   "cell_type": "code",
   "execution_count": null,
   "id": "739e0e57-5893-40e7-8fbb-e7df999b5dfd",
   "metadata": {},
   "outputs": [],
   "source": []
  },
  {
   "cell_type": "code",
   "execution_count": null,
   "id": "d010c868-2015-4822-970c-880c174d87b8",
   "metadata": {},
   "outputs": [],
   "source": []
  },
  {
   "cell_type": "code",
   "execution_count": null,
   "id": "beb02a8b-72e0-40b5-9350-979b9a9683de",
   "metadata": {},
   "outputs": [],
   "source": [
    "Question 5: Plot Tesla Stock Graph"
   ]
  },
  {
   "cell_type": "code",
   "execution_count": 69,
   "id": "da5aebfc-8ebb-4760-b2b8-b0b468e9f335",
   "metadata": {},
   "outputs": [
    {
     "name": "stdout",
     "output_type": "stream",
     "text": [
      "Requirement already satisfied: matplotlib in c:\\users\\doeoc\\anaconda3\\lib\\site-packages (3.8.0)\n",
      "Requirement already satisfied: contourpy>=1.0.1 in c:\\users\\doeoc\\anaconda3\\lib\\site-packages (from matplotlib) (1.2.0)\n",
      "Requirement already satisfied: cycler>=0.10 in c:\\users\\doeoc\\anaconda3\\lib\\site-packages (from matplotlib) (0.11.0)\n",
      "Requirement already satisfied: fonttools>=4.22.0 in c:\\users\\doeoc\\anaconda3\\lib\\site-packages (from matplotlib) (4.25.0)\n",
      "Requirement already satisfied: kiwisolver>=1.0.1 in c:\\users\\doeoc\\anaconda3\\lib\\site-packages (from matplotlib) (1.4.4)\n",
      "Requirement already satisfied: numpy<2,>=1.21 in c:\\users\\doeoc\\anaconda3\\lib\\site-packages (from matplotlib) (1.26.4)\n",
      "Requirement already satisfied: packaging>=20.0 in c:\\users\\doeoc\\anaconda3\\lib\\site-packages (from matplotlib) (23.1)\n",
      "Requirement already satisfied: pillow>=6.2.0 in c:\\users\\doeoc\\anaconda3\\lib\\site-packages (from matplotlib) (10.2.0)\n",
      "Requirement already satisfied: pyparsing>=2.3.1 in c:\\users\\doeoc\\anaconda3\\lib\\site-packages (from matplotlib) (3.0.9)\n",
      "Requirement already satisfied: python-dateutil>=2.7 in c:\\users\\doeoc\\anaconda3\\lib\\site-packages (from matplotlib) (2.8.2)\n",
      "Requirement already satisfied: six>=1.5 in c:\\users\\doeoc\\anaconda3\\lib\\site-packages (from python-dateutil>=2.7->matplotlib) (1.16.0)\n",
      "Note: you may need to restart the kernel to use updated packages.\n"
     ]
    }
   ],
   "source": [
    "pip install matplotlib"
   ]
  },
  {
   "cell_type": "code",
   "execution_count": 84,
   "id": "80752f54-7526-408a-b959-58fcef7f063c",
   "metadata": {},
   "outputs": [
    {
     "data": {
      "image/png": "[encoded data removed]",
      "text/plain": [
       "<Figure size 1400x700 with 1 Axes>"
      ]
     },
     "metadata": {},
     "output_type": "display_data"
    }
   ],
   "source": [
    "import yfinance as yf\n",
    "import pandas as pd\n",
    "import matplotlib.pyplot as plt\n",
    "\n",
    "# Create a ticker object for Tesla\n",
    "tesla = yf.Ticker(\"TSLA\")\n",
    "\n",
    "# Extract historical stock data for Tesla\n",
    "tesla_data = tesla.history(period=\"max\")\n",
    "\n",
    "# Reset the index of the DataFrame\n",
    "tesla_data.reset_index(inplace=True)\n",
    "\n",
    "# Define the make_graph function\n",
    "def make_graph(stock_data, title):\n",
    "    # Filter data up to June 2021\n",
    "    stock_data_filtered = stock_data[stock_data['Date'] <= '2021-06-30']\n",
    "    \n",
    "    # Plot the stock data\n",
    "    plt.figure(figsize=(14, 7))\n",
    "    plt.plot(stock_data_filtered['Date'], stock_data_filtered['Close'], label='Close Price')\n",
    "    \n",
    "    # Add title and labels\n",
    "    plt.title(f\"{title} Stock Price\")\n",
    "    plt.xlabel('Date')\n",
    "    plt.ylabel('Close Price')\n",
    "    plt.legend()\n",
    "    plt.grid(True)\n",
    "    plt.show()\n",
    "\n",
    "# Call the make_graph function with Tesla data\n",
    "make_graph(tesla_data, 'Tesla')"
   ]
  },
  {
   "cell_type": "code",
   "execution_count": null,
   "id": "5f4fc025-1cfd-4c04-aed8-486dec51dda1",
   "metadata": {},
   "outputs": [],
   "source": []
  },
  {
   "cell_type": "code",
   "execution_count": null,
   "id": "f1d99829-a430-4f16-8b37-fef68825661e",
   "metadata": {},
   "outputs": [],
   "source": [
    "Question 6: Plot GameStop Stock Graph"
   ]
  },
  {
   "cell_type": "code",
   "execution_count": 87,
   "id": "91ff9d7f-4376-4882-853d-ee72253391a5",
   "metadata": {},
   "outputs": [
    {
     "ename": "TypeError",
     "evalue": "make_graph() takes 2 positional arguments but 3 were given",
     "output_type": "error",
     "traceback": [
      "\u001b[1;31m---------------------------------------------------------------------------\u001b[0m",
      "\u001b[1;31mTypeError\u001b[0m                                 Traceback (most recent call last)",
      "Cell \u001b[1;32mIn[87], line 4\u001b[0m\n\u001b[0;32m      1\u001b[0m gme_data_filtered \u001b[38;5;241m=\u001b[39m gme_data[gme_data\u001b[38;5;241m.\u001b[39mindex \u001b[38;5;241m<\u001b[39m\u001b[38;5;241m=\u001b[39m \u001b[38;5;124m'\u001b[39m\u001b[38;5;124m2021-06-30\u001b[39m\u001b[38;5;124m'\u001b[39m]\n\u001b[0;32m      3\u001b[0m \u001b[38;5;66;03m# Call make_graph function\u001b[39;00m\n\u001b[1;32m----> 4\u001b[0m make_graph(gme_data_filtered, gme_revenue, \u001b[38;5;124m'\u001b[39m\u001b[38;5;124mGameStop Stock Data (up to June 2021)\u001b[39m\u001b[38;5;124m'\u001b[39m)\n",
      "\u001b[1;31mTypeError\u001b[0m: make_graph() takes 2 positional arguments but 3 were given"
     ]
    }
   ],
   "source": [
    "gme_data_filtered = gme_data[gme_data.index <= '2021-06-30']\n",
    "\n",
    "# Call make_graph function\n",
    "make_graph(gme_data_filtered, gme_revenue, 'GameStop Stock Data (up to June 2021)')"
   ]
  }
 ],
 "metadata": {
  "kernelspec": {
   "display_name": "Python 3 (ipykernel)",
   "language": "python",
   "name": "python3"
  },
  "language_info": {
   "codemirror_mode": {
    "name": "ipython",
    "version": 3
   },
   "file_extension": ".py",
   "mimetype": "text/x-python",
   "name": "python",
   "nbconvert_exporter": "python",
   "pygments_lexer": "ipython3",
   "version": "3.11.7"
  }
 },
 "nbformat": 4,
 "nbformat_minor": 5
}
